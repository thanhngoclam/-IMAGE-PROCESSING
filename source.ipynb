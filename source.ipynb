{
 "cells": [
  {
   "cell_type": "markdown",
   "metadata": {},
   "source": [
    "### Thư viện"
   ]
  },
  {
   "cell_type": "code",
   "execution_count": null,
   "metadata": {},
   "outputs": [],
   "source": [
    "import matplotlib.pyplot as plt\n",
    "import PIL as pil\n",
    "import numpy as np\n",
    "\n",
    "from PIL import Image"
   ]
  },
  {
   "cell_type": "markdown",
   "metadata": {},
   "source": [
    "### In ảnh"
   ]
  },
  {
   "cell_type": "code",
   "execution_count": null,
   "metadata": {},
   "outputs": [],
   "source": [
    "def print_img(imgs, row, col):\n",
    "    plt.figure(figsize=(20,15))\n",
    "    for i in range(len(imgs)):\n",
    "        plt.subplot(row, col, i+1)\n",
    "        plt.imshow(imgs[i])\n",
    "    plt.show()"
   ]
  },
  {
   "cell_type": "markdown",
   "metadata": {},
   "source": [
    "### Lưu ảnh"
   ]
  },
  {
   "cell_type": "code",
   "execution_count": null,
   "metadata": {},
   "outputs": [],
   "source": [
    "def save_img(imgs, file_name, function):\n",
    "    [Image.fromarray(imgs[i]).save(file_name.rsplit('.')[0] + '_' + function[i] + '.png') for i in range(1, len(imgs))]"
   ]
  },
  {
   "cell_type": "markdown",
   "metadata": {},
   "source": [
    "### Thay đổi độ sáng cho ảnh"
   ]
  },
  {
   "cell_type": "code",
   "execution_count": null,
   "metadata": {},
   "outputs": [],
   "source": [
    "def brighten(img_d, brightvalue):\n",
    "    return np.clip(img_d.astype('int64') + brightvalue, 0, 255).astype('uint8')"
   ]
  },
  {
   "cell_type": "markdown",
   "metadata": {},
   "source": [
    "### Thay đổi độ tương phản"
   ]
  },
  {
   "cell_type": "code",
   "execution_count": null,
   "metadata": {},
   "outputs": [],
   "source": [
    "def contrast(img_d, contrastvalue):\n",
    "    f = (259*(contrastvalue + 255))/(255*(259 - contrastvalue))\n",
    "    return np.clip((f*(img_d.astype('float64') - 128) + 128), 0, 255).astype('uint8')"
   ]
  },
  {
   "cell_type": "markdown",
   "metadata": {},
   "source": [
    "### Lật ảnh (ngang - dọc)"
   ]
  },
  {
   "cell_type": "markdown",
   "metadata": {},
   "source": [
    "    - Lật ngang"
   ]
  },
  {
   "cell_type": "code",
   "execution_count": null,
   "metadata": {},
   "outputs": [],
   "source": [
    "def hflip(img_d):\n",
    "    return img_d[:,::-1]"
   ]
  },
  {
   "cell_type": "markdown",
   "metadata": {},
   "source": [
    "    - Lật dọc"
   ]
  },
  {
   "cell_type": "code",
   "execution_count": null,
   "metadata": {},
   "outputs": [],
   "source": [
    "def vflip(img_d):\n",
    "    return img_d[::-1]"
   ]
  },
  {
   "cell_type": "markdown",
   "metadata": {},
   "source": [
    "### Chuyển đổi ảnh RGB thành ảnh xám/sepia"
   ]
  },
  {
   "cell_type": "markdown",
   "metadata": {},
   "source": [
    "    - RGB -> grayscale"
   ]
  },
  {
   "cell_type": "code",
   "execution_count": null,
   "metadata": {},
   "outputs": [],
   "source": [
    "def to_grayscale(img_d):\n",
    "    grayscale = np.array([0.3, 0.59, 0.11])\n",
    "    res = np.sum(img_d * grayscale, axis = -1).astype('uint8').reshape(img_d.shape[0], img_d.shape[1], 1)\n",
    "    return np.repeat(res, img_d.shape[-1], axis=-1)"
   ]
  },
  {
   "cell_type": "markdown",
   "metadata": {},
   "source": [
    "    - RGB -> sepia"
   ]
  },
  {
   "cell_type": "code",
   "execution_count": null,
   "metadata": {},
   "outputs": [],
   "source": [
    "def to_sepia(img_d):\n",
    "    sepiascale = np.array([[0.393, 0.769, 0.189],\n",
    "                          [0.349, 0.686, 0.168],\n",
    "                          [0.272, 0.534, 0.131]])\n",
    "    \n",
    "    new_red = np.clip(np.sum(img_d * sepiascale[0], axis=-1), 0, 255).astype('uint8').reshape(img_d.shape[0], img_d.shape[1], 1)\n",
    "    new_green = np.clip(np.sum(img_d * sepiascale[1], axis=-1), 0, 255).astype('uint8').reshape(img_d.shape[0], img_d.shape[1], 1)\n",
    "    new_blue = np.clip(np.sum(img_d * sepiascale[2], axis=-1), 0, 255).astype('uint8').reshape(img_d.shape[0], img_d.shape[1], 1)\n",
    "    \n",
    "    return np.concatenate([new_red, new_green, new_blue], axis=-1)"
   ]
  },
  {
   "cell_type": "markdown",
   "metadata": {},
   "source": [
    "### Làm mờ/sắc nét ảnh"
   ]
  },
  {
   "cell_type": "markdown",
   "metadata": {},
   "source": [
    "    - Làm mờ ảnh"
   ]
  },
  {
   "cell_type": "code",
   "execution_count": null,
   "metadata": {},
   "outputs": [],
   "source": [
    "def blur(img_d):\n",
    "    kernel = 1/16 * np.array([[1, 2, 1],\n",
    "                              [2, 4, 2],\n",
    "                              [1, 2, 1]])\n",
    "\n",
    "    blured_img = np.copy(img_d).astype('float64')\n",
    "    \n",
    "    for i in range(1, img_d.shape[0] - 1):\n",
    "        for j in range(1, img_d.shape[1] - 1):\n",
    "            for k in range(img_d.shape[2]):\n",
    "                blured_img[i, j, k]= (img_d[i-1: i+2, j-1 : j+2, k].astype('float64') * kernel).sum()\n",
    " \n",
    "    return np.clip(blured_img, 0, 255).astype('uint8')\n",
    "    "
   ]
  },
  {
   "cell_type": "markdown",
   "metadata": {},
   "source": [
    "    - Làm sắc nét"
   ]
  },
  {
   "cell_type": "code",
   "execution_count": null,
   "metadata": {},
   "outputs": [],
   "source": [
    "def sharpen(img_d):\n",
    "    kernel = np.array([[0, -1, 0],\n",
    "                       [-1, 5, -1],\n",
    "                       [0, -1, 0]])\n",
    "\n",
    "    blured_img = np.copy(img_d).astype('float64')\n",
    "    \n",
    "    for i in range(1, img_d.shape[0] - 1):\n",
    "        for j in range(1, img_d.shape[1] - 1):\n",
    "            for k in range(3):\n",
    "                blured_img[i, j, k]= (img_d[i-1: i+2, j-1 : j+2, k].astype('float64') * kernel).sum()\n",
    "    \n",
    "    return np.clip(blured_img, 0, 255).astype('uint8')"
   ]
  },
  {
   "cell_type": "markdown",
   "metadata": {},
   "source": [
    "### Cắt ảnh theo kích thước (cắt ở trung tâm)"
   ]
  },
  {
   "cell_type": "code",
   "execution_count": null,
   "metadata": {},
   "outputs": [],
   "source": [
    "def crop_center(img_d):\n",
    "    width = int(img_d.shape[0]/4)\n",
    "    height = int(img_d.shape[1]/4)\n",
    "    \n",
    "    res = img_d[width:-width, height:-height]\n",
    "    \n",
    "    return res"
   ]
  },
  {
   "cell_type": "markdown",
   "metadata": {},
   "source": [
    "### Cắt ảnh theo khung hình tròn"
   ]
  },
  {
   "cell_type": "code",
   "execution_count": null,
   "metadata": {},
   "outputs": [],
   "source": [
    "def crop_circle(img_d):\n",
    "    a = int(img_d.shape[0]/2)\n",
    "    b = int(img_d.shape[1]/2)\n",
    "    \n",
    "    r = int(img_d.shape[0]/2)\n",
    "    frame = np.copy(img_d)\n",
    "    \n",
    "    for i in range (img_d.shape[0]):\n",
    "        for j in range(img_d.shape[1]):\n",
    "            if ((i - a)**2 + (j - b)**2 > r**2):\n",
    "                frame[i][j] = 0             \n",
    "    return frame\n",
    "    "
   ]
  },
  {
   "cell_type": "markdown",
   "metadata": {},
   "source": [
    "### Cắt ảnh theo khung là 2 hình ellip chéo nhau"
   ]
  },
  {
   "cell_type": "code",
   "execution_count": null,
   "metadata": {},
   "outputs": [],
   "source": [
    "def crop_ellip(img_d):\n",
    "    h = int(img_d.shape[0]/2)\n",
    "    k = int(img_d.shape[1]/2)\n",
    "    \n",
    "    a = int(np.sqrt(img_d.shape[0]**2 + img_d.shape[1]**2)/2.35)\n",
    "    b = int(np.sqrt(img_d.shape[0]**2 + img_d.shape[1]**2)/4)\n",
    "    \n",
    "    x, y = np.meshgrid(np.arange(img_d.shape[1]), np.arange(img_d.shape[0]))\n",
    "    \n",
    "    x1 = ((x - h)*(np.sqrt(2)/2) + (y - k)*(np.sqrt(2)/2))**2/(a**2)\n",
    "    y1 = ((x - h)*(np.sqrt(2)/2) - (y - k)*(np.sqrt(2)/2))**2/(b**2)\n",
    "            \n",
    "    x2 = ((x - h)*(-np.sqrt(2)/2) + (y - k)*(np.sqrt(2)/2))**2/(a**2)\n",
    "    y2 = ((x - h)*(np.sqrt(2)/2) - (y - k)*(-np.sqrt(2)/2))**2/(b**2)\n",
    "            \n",
    "    mask = np.logical_and(x1 + y1 > 1, x2 + y2 > 1)\n",
    "    \n",
    "    frame = np.copy(img_d)\n",
    "    frame[mask] = 0\n",
    "    \n",
    "    return frame\n"
   ]
  },
  {
   "cell_type": "code",
   "execution_count": null,
   "metadata": {},
   "outputs": [],
   "source": [
    "def main():\n",
    "    file_name = input('Nhập tên tập tin ảnh')\n",
    "    img = Image.open(file_name)\n",
    "    img_d = np.array(img)\n",
    "    \n",
    "    print(\"\"\"\n",
    "          0. Thực hiện tất cả chức năng\n",
    "          1. Thay đổi độ sáng cho ảnh\n",
    "          2. Thay đổi độ tương phản\n",
    "          3. Lật ảnh ngang - dọc\n",
    "          4. Chuyển đổi ảnh RGB thành ảnh xám và sepia\n",
    "          5. Làm mờ và sắc nét ảnh\n",
    "          6. Cắt ảnh theo kích thước (cắt ở trung tâm)\n",
    "          7. Cắt ảnh theo khung hình tròn\n",
    "          8. Cắt ảnh theo khung 2 hình ellip chéo nhau\n",
    "          \"\"\")\n",
    "        \n",
    "    function = input('Nhập chức năng (0 - 8)')\n",
    "    match function:\n",
    "        case '0':\n",
    "            imgs = [img, brighten(img_d, 128), contrast(img_d, 128), hflip(img_d), vflip(img_d),\n",
    "            to_grayscale(img_d), to_sepia(img_d), blur(img_d), sharpen(img_d),\n",
    "            crop_center(img_d), crop_circle(img_d), crop_ellip(img_d)]\n",
    "            \n",
    "            function_name = ['original', 'bright', 'constrast', 'flip horizontally',\n",
    "                             'flip vertically', 'grayscale', 'sepia', 'blur', 'sharp',\n",
    "                             'center crop', 'circle frame', 'ellip frame']\n",
    "            \n",
    "            print_img(imgs, 3, 4)\n",
    "            save_img(imgs, file_name, function_name)\n",
    "        case '1':\n",
    "            imgs = [img, brighten(img_d, 128)]\n",
    "            function_name = ['original', 'bright']\n",
    "            \n",
    "            print_img(imgs, 1, 2)\n",
    "            save_img(imgs, file_name, function_name)\n",
    "        case '2':\n",
    "            imgs = [img, contrast(img_d, 128)]\n",
    "            function_name = ['original', 'constrast']\n",
    "            \n",
    "            print_img(imgs, 1, 2)\n",
    "            save_img(imgs, file_name, function_name)\n",
    "        case '3':\n",
    "            imgs = [img, vflip(img_d), hflip(img_d)]\n",
    "            function_name = ['original', 'flip vertically', 'flip horizontally']\n",
    "            \n",
    "            print_img(imgs, 1, 3)\n",
    "            save_img(imgs, file_name, function_name)\n",
    "        case '4':\n",
    "            imgs = [img, to_grayscale(img_d), to_sepia(img_d)]\n",
    "            function_name = ['original', 'grayscale', 'sepia']\n",
    "            \n",
    "            print_img(imgs, 1, 3)\n",
    "            save_img(imgs, file_name, function_name)\n",
    "        case '5':\n",
    "            imgs = [img, blur(img_d), sharpen(img_d)]\n",
    "            function_name = ['original', 'blur', 'sharp']\n",
    "            \n",
    "            print_img(imgs, 1, 3)\n",
    "            save_img(imgs, file_name, function_name)\n",
    "        case '6':\n",
    "            imgs = [img, crop_center(img_d)]\n",
    "            function_name = ['original', 'center crop']\n",
    "            \n",
    "            print_img(imgs, 1, 2)\n",
    "            save_img(imgs, file_name, function_name)\n",
    "        case '7':\n",
    "            imgs = [img, crop_circle(img_d)]\n",
    "            function_name = ['original', 'circle frame']\n",
    "            \n",
    "            print_img(imgs, 1, 2)\n",
    "            save_img(imgs, file_name, function_name)\n",
    "        case '8':\n",
    "            imgs = [img, crop_ellip(img_d)]\n",
    "            function_name = ['original', 'ellip frame']\n",
    "            \n",
    "            print_img(imgs, 1, 2)\n",
    "            save_img(imgs, file_name, function_name)\n",
    "        case _:\n",
    "            print('Chức năng không phù hợp')"
   ]
  },
  {
   "cell_type": "code",
   "execution_count": null,
   "metadata": {},
   "outputs": [],
   "source": [
    "main()"
   ]
  }
 ],
 "metadata": {
  "kernelspec": {
   "display_name": "base",
   "language": "python",
   "name": "python3"
  },
  "language_info": {
   "codemirror_mode": {
    "name": "ipython",
    "version": 3
   },
   "file_extension": ".py",
   "mimetype": "text/x-python",
   "name": "python",
   "nbconvert_exporter": "python",
   "pygments_lexer": "ipython3",
   "version": "3.10.9"
  },
  "orig_nbformat": 4
 },
 "nbformat": 4,
 "nbformat_minor": 2
}
